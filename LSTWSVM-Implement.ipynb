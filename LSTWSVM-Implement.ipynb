{
  "nbformat": 4,
  "nbformat_minor": 0,
  "metadata": {
    "colab": {
      "provenance": [],
      "toc_visible": true,
      "mount_file_id": "1hWkyTGIfktoWzb2CmhKmTTKdDz9yT3jI",
      "authorship_tag": "ABX9TyPVY4OIG9dk1Le93mbZ6/YO"
    },
    "kernelspec": {
      "name": "python3",
      "display_name": "Python 3"
    },
    "language_info": {
      "name": "python"
    }
  },
  "cells": [
    {
      "cell_type": "markdown",
      "source": [
        "<h1 align='center'><b>Implementation of Least Squares Twin  Support Vector Machine Algorithm</b></h1><br/>\n",
        "\n",
        "<h5 align='center'>According to the article of<br/>\n",
        "Least squares twin support vector machines for pattern classification<br/>\n",
        "  M. Arun Kumar *, M. Gopal<br/>\n",
        "  Control Group, Department of Electrical Engineering<br/>\n",
        "  Indian Institute of Technology Delhi, Hauz Khas, New Delhi 110016, India</h5>\n",
        "<h6>See full article <a href='https://www.sciencedirect.com/science/article/abs/pii/S0957417408006854'>Here</a>.</h6><br/>\n",
        "\n",
        "\n",
        "---\n",
        "\n",
        "\n",
        "<h5>Abdullah Mohammadi<br/>Master student in Data Science,Ferdowsi university of Mashhad</h5>\n",
        "<a href='mailto:abdhmohammady@gmail.com'>abdhmohammady@gmail.com</a><br/>\n",
        "<a href='https://github.com/AbdhMohammadi'>https://github.com/abdhmohammadi</a><br/>\n",
        "Other social networks: @abdhmohammadi\n",
        "  \n",
        "---\n",
        "\n"
      ],
      "metadata": {
        "id": "0suTyPhDcGAb"
      }
    },
    {
      "cell_type": "markdown",
      "source": [
        "<h1>Introduction</h1>\n",
        "In this article, we are trying to implement the Least Square Twin SVM version for the SVM algorithm, for ease of expression, we will call it LSTwinSVM from now on. LSTwinSVM was published by Arun Kumar and Gopal in an article titled Least squares twin support vector machines for pattern classification in Science Direct magazine on May 4, 2009, which develops the basic SVM algorithm using two non-parallel hyperplanes. In this article, a binary classification problem is divided into two classes like other SVM methods, but instead of finding two parallel hyperplanes, it searches for non-parallel hyperplanes."
      ],
      "metadata": {
        "id": "RNVpL_QEFaQ2"
      }
    },
    {
      "cell_type": "markdown",
      "source": [
        "<h1>Student-Performance dataset</h1>\n",
        "\n",
        "In the implementation of this algorithm, we use the Student-Performance.csv dataset, which is briefly described below for the reader's familiarity:\n",
        "\n",
        "These data are about student progress in two secondary schools in Portugal. This collection is presented in relation to students' performance in two subjects: mathematics (mat) and Portuguese language (por). Data characteristics include student grades, demographic, family, social, and school data collected using school reports and questionnaires. The target characteristic of G3 is third-year grades. See <a href='https://archive.ics.uci.edu/ml/datasets/student+performance'>here</a> for more details."
      ],
      "metadata": {
        "id": "jjU0ZvWZZAR2"
      }
    },
    {
      "cell_type": "markdown",
      "source": [
        "<h1>Import required libraries</h1>"
      ],
      "metadata": {
        "id": "979lR9dmkswN"
      }
    },
    {
      "cell_type": "code",
      "source": [
        "import numpy as np\n",
        "import pandas as pd\n",
        "from sklearn.model_selection import train_test_split\n",
        "from scipy.spatial.distance import cdist\n",
        "from numpy.matlib import matrix\n",
        "from sklearn import preprocessing\n",
        "from sklearn import metrics\n",
        "from sklearn.metrics import accuracy_score\n",
        "import matplotlib.pyplot as plt\n"
      ],
      "metadata": {
        "id": "eeuLWxrsn0uy"
      },
      "execution_count": null,
      "outputs": []
    },
    {
      "cell_type": "code",
      "source": [
        "A = matrix([[1,1,1],[2,2,2]])\n",
        "B = matrix([[3,3,3],[1,1,1],[4,4,4],[5,2,1]])\n",
        "C = A*B.T\n",
        "C.shape"
      ],
      "metadata": {
        "colab": {
          "base_uri": "https://localhost:8080/"
        },
        "id": "kpltF0HrjL-H",
        "outputId": "6e09cac9-9e84-4b60-ff32-6b4489360294"
      },
      "execution_count": null,
      "outputs": [
        {
          "output_type": "execute_result",
          "data": {
            "text/plain": [
              "(2, 4)"
            ]
          },
          "metadata": {},
          "execution_count": 5
        }
      ]
    },
    {
      "cell_type": "markdown",
      "source": [
        "# Preprocessing"
      ],
      "metadata": {
        "id": "IJ5bKz1QGnCW"
      }
    },
    {
      "cell_type": "code",
      "source": [
        "df = pd.read_csv('/content/drive/MyDrive/DATA/Student-Performance.csv')\n",
        "#for c in df.columns: print('Total Missing values in \\'{}\\' are {}.'.format(c,df[c].isna().sum()))\n",
        "#Replace mean of 'age' column for each missing value\n",
        "age_mean = int(df[\"age\"].mean())\n",
        "df['age'] = df['age'].fillna(age_mean)\n",
        "\n",
        "#Replace mean of 'freetime' column for each missing value\n",
        "freetime_mean =int(df[\"freetime\"].mean())\n",
        "df['freetime'] = df['freetime'].fillna(age_mean)\n",
        "\n",
        "guardian =['mother','father','father']\n",
        "#Replace random selection of 'mother' and 'father' for each missing value of 'gradiant' column\n",
        "for i in range(len(df[\"guardian\"])):\n",
        "  if pd.isnull(df[\"guardian\"][i]):\n",
        "     df.at[i,\"guardian\"] = np.random.choice(guardian)\n",
        "\n",
        "#Generate new column and set 'Passed' as default value\n",
        "\n",
        "df['G'] ='Passed'\n",
        "\n",
        "#Update values of column 'G' asosioted by values of 'G3'.\n",
        "#if each value of 'G3' is lower than 10, value of 'G' changes to 'Failure'\n",
        "for i, row in df.iterrows():\n",
        "     if df.at[i,'G3']<10 : df.at[i,'G'] = 'Failure'\n",
        "         \n",
        "#remove 'G3'\n",
        "del df['G3']\n",
        "\n",
        "#rename 'G' to 'G3'\n",
        "df.rename(columns = {'G':'G3'}, inplace = True)\n",
        "\n",
        "df['sex'] = df['sex'].map({'M': 0, 'F': 1})\n",
        "df['address'] = df['address'].map({'U': 0, 'R': 1})\n",
        "df['guardian'] = df['guardian'].map({'mother': 0, 'father': 1})\n",
        "\n",
        "#Columns 0 - 11 for predicate\n",
        "predictors = df.values[:, 0:11]\n",
        "#G3\n",
        "targets = df.values[:,12]\n",
        "\n",
        "features = list(df.columns[:11])\n",
        "\n",
        "pred_train, pred_test, tar_train, tar_test = train_test_split(predictors, targets, test_size= 0.25)\n",
        "\n",
        "print(\"Trian shape \",pred_train.shape)\n",
        "print(\"Test shape \",pred_test.shape)\n",
        "print(\"Target trian shape \",tar_train.shape)\n",
        "print(\"Target test shape \",tar_test.shape)"
      ],
      "metadata": {
        "colab": {
          "base_uri": "https://localhost:8080/"
        },
        "id": "4aCmoprju9fF",
        "outputId": "b0c09311-85c6-4676-c12b-3a3fa004ee4c"
      },
      "execution_count": null,
      "outputs": [
        {
          "output_type": "stream",
          "name": "stdout",
          "text": [
            "Trian shape  (592, 11)\n",
            "Test shape  (198, 11)\n",
            "Target trian shape  (592,)\n",
            "Target test shape  (198,)\n"
          ]
        }
      ]
    },
    {
      "cell_type": "markdown",
      "source": [
        "# <h1>Algorithm of nonlinear least squares Twin SVM (LSTSVM)</h1>\n",
        "\n",
        "Given $m_1$ datapoints in $R^n$ of class $0$ represented by matrix $A$,\n",
        "and $m_2$ datapoints in $R^n$ of class $1$ represented by matrix $B$\n",
        "nonlinear LSTSVM can be obtained using the following $6$ steps:"
      ],
      "metadata": {
        "id": "aeSCcx7ihDSt"
      }
    },
    {
      "cell_type": "markdown",
      "source": [
        "<h1>Step 1:Choose a kernel function K</h1>\n",
        "We difined simple kernel selector function above."
      ],
      "metadata": {
        "id": "NOEnWilditZ4"
      }
    },
    {
      "cell_type": "markdown",
      "source": [
        "<h3>Kernel selector function</h3>"
      ],
      "metadata": {
        "id": "dkTKmXdBYiC_"
      }
    },
    {
      "cell_type": "code",
      "source": [
        "def get_kernel(name='rbf',gamma=1,degree = 2):\n",
        "    def rbf(x1, x2,g=gamma):\n",
        "      i = x1.shape[0]\n",
        "      k = x2.shape[0]\n",
        "      list_=[]\n",
        "      # rows of x1\n",
        "      for i1 in range(i):\n",
        "        row=[]\n",
        "        # rows of x2\n",
        "        for l1 in range(k):\n",
        "          x = x1[i1]- x2[l1]\n",
        "          norm = np.linalg.norm(x)\n",
        "          element = np.exp(-g*(norm**2))\n",
        "          row.append(element)\n",
        "        #print(row)  \n",
        "        list_.append(row)\n",
        "      return matrix(list_)\n",
        "    #return np.exp(-cdist(x1, x2.T) ** 2)# / sigma ** 2)\n",
        "    # if sigma is None: raise ValueError(\"'None' value is not valid for sigma\")\n",
        "    # else :\n",
        "    # x1 and x2 are to matrices\n",
        "    \n",
        "    def linear(x1,x2): return x1*x2.T #np.dot(x1,x2.T)\n",
        "\n",
        "    def poly(x1, x2, d = degree):\n",
        "      # the rows of matrix 1\n",
        "      i = x1.shape[0]\n",
        "      k = x2.shape[0]\n",
        "      list_=[]\n",
        "      for i1 in range(i):\n",
        "        row=[]\n",
        "        #columns of x2\n",
        "        for l1 in range(k):\n",
        "          element = (np.double(x1[i1]*x2[l1].T)+1)**d\n",
        "          #print(element)\n",
        "          row.append(element)\n",
        "        list_.append(row)\n",
        "\n",
        "      return matrix(list_)\n",
        "    \n",
        "    kernels = {'linear': linear, 'poly': poly, 'rbf': rbf}\n",
        "    \n",
        "    if kernels.get(name) is None: raise KeyError( f\"Kernel '{name}' is not defined, try one in the list: \" f\"{list(kernels.keys())}.\" )\n",
        "    else: return kernels[name]\n",
        "   "
      ],
      "metadata": {
        "id": "TXFjCou3YfyH"
      },
      "execution_count": null,
      "outputs": []
    },
    {
      "cell_type": "markdown",
      "source": [
        "Select a kernel and penalty parameters C1 and C2.\n",
        "Usually these parameters are selected based on validation."
      ],
      "metadata": {
        "id": "sS_cRp7oZqqP"
      }
    },
    {
      "cell_type": "code",
      "source": [
        "K = get_kernel(name='linear')\n",
        "epsilon = 0.1 # Epsilon\n",
        "C1 = 1.0\n",
        "C2 = 1.0"
      ],
      "metadata": {
        "id": "IweTklS_ZwqW"
      },
      "execution_count": null,
      "outputs": []
    },
    {
      "cell_type": "markdown",
      "source": [
        "<h1>Step 2:</h1>Define \n",
        "$C=\\left[\\begin{matrix}A\\\\B\\\\\\end{matrix}\\right]$\n",
        "and  $G=[K(A,C^T) \\ \\  \\ e]$  and $H=[K(B,C^T) \\ \\  \\ e]$</h1><br/>\n",
        "\n",
        "$A$ is  Matrix of class 0 datapoints and $B$ is  Matrix of class 1 datapoints."
      ],
      "metadata": {
        "id": "I0BFRoSWmn1K"
      }
    },
    {
      "cell_type": "code",
      "source": [
        "A = matrix(pred_train[tar_train=='Passed'])\n",
        "B = matrix(pred_train[tar_train=='Failure'])\n",
        "\n",
        "m1 = A.shape[0]\n",
        "m2 = B.shape[0]\n",
        "\n",
        "C = np.concatenate((A,B))\n",
        "\n",
        "KAC=K(A,C)\n",
        "\n",
        "e = np.ones((KAC.shape[0],1))\n",
        "G = np.hstack((KAC,e))\n",
        "\n",
        "KBC = K(B,C)\n",
        "\n",
        "e = np.ones((KBC.shape[0],1))\n",
        "H = np.hstack((KBC,e))\n",
        "\n",
        "print(\"m1 =\",m1)\n",
        "print(\"m2 =\",m2)\n",
        "print(\"Shape of K(A,C) = \",KAC.shape)\n",
        "print(\"Shape of K(B,C) = \",KBC.shape)\n",
        "\n",
        "print(\"Shape of G = \",G.shape)\n",
        "print(\"Shape of H = \",H.shape)\n"
      ],
      "metadata": {
        "id": "ZYL9YkQamU_s",
        "colab": {
          "base_uri": "https://localhost:8080/"
        },
        "outputId": "61d9285e-d921-4e5c-f514-5d25458a6cf1"
      },
      "execution_count": null,
      "outputs": [
        {
          "output_type": "stream",
          "name": "stdout",
          "text": [
            "m1 = 393\n",
            "m2 = 199\n",
            "Shape of K(A,C) =  (393, 592)\n",
            "Shape of K(B,C) =  (199, 592)\n",
            "Shape of G =  (393, 593)\n",
            "Shape of H =  (199, 593)\n"
          ]
        }
      ]
    },
    {
      "cell_type": "markdown",
      "source": [
        "<h1>Step 4.1</h1>\n",
        "\n",
        "calculate $m_1$ and $m_2$ and determine $\\ \\  m_1$<$\\ m_2$ or not?\n",
        "\n",
        "<h1>$\\ if \\ \\ m_1$<$m_2$</h1>\n",
        "\n",
        "if $m_1$<$m_2$ determine the parameters of two hypersurfaces using\n",
        "\n",
        "$Y=\\frac{1}{\\varepsilon}(I-H^T(\\varepsilon I+HH^T)^{-1}H)$\n",
        "\n",
        "$\n",
        "\\left[\\begin{matrix}u_1\\\\b_1\\\\\\end{matrix}\\right]=-\\left(Y-YG^T(C_1I+GYG^T\\right)^{-1}{GY)H}^Te\n",
        "$\n",
        "\n",
        "$\n",
        "\\left[\\begin{matrix}u_2\\\\b_2\\\\\\end{matrix}\\right]={C_2{(Y-YG}^T(\\frac{I}{C_2}+GYG^T)}^{-1}GY)G^Te\n",
        "$"
      ],
      "metadata": {
        "id": "VpmazS7p7s2n"
      }
    },
    {
      "cell_type": "code",
      "source": [
        "if m1<m2:\n",
        "  HHT= H*H.T\n",
        "\n",
        "  ieps = epsilon*np.identity(HHT.shape[0])\n",
        "  INV = np.linalg.inv(ieps + HHT)\n",
        "\n",
        "  HTINVH = H.T*INV*H\n",
        "  i = np.identity(HTINVH.shape[0])\n",
        "  Y = (1/epsilon)*(i- HTINVH)\n",
        "\n",
        "  GYGT = G*Y*G.T\n",
        "  i = np.identity(GYGT.shape[0])\n",
        "  ic1 = C1*i\n",
        "  INV = np.linalg.inv(ic1+ GYGT)\n",
        "  ZGTINVGZGT = -1*(Y - Y*G.T*INV*G*Y)*H.T\n",
        "  e = np.ones((ZGTINVGZGT.shape[1],1))\n",
        "  u1b1 = ZGTINVGZGT*e\n",
        "  #print(\"u1,b1\",u1b1)\n",
        "\n",
        "  # u1 ,b1\n",
        "  INV = np.linalg.inv((1/C2)*i+GYGT)\n",
        "  ZHTHZG = C2*(Y - Y*G.T*INV*G*Y)*G.T\n",
        "  e = np.ones((ZHTHZG.shape[1],1))\n",
        "  u2b2 = ZHTHZG*e\n"
      ],
      "metadata": {
        "id": "dbK0hS6ZbaE5"
      },
      "execution_count": null,
      "outputs": []
    },
    {
      "cell_type": "markdown",
      "source": [
        "<h1>Step 4.2: $\\ if \\ \\ m_1\\geq m_2$</h1>\n",
        "if $m_1\\geq m_2$  determine the parameters of two hypersurfaces using\n",
        "\n",
        "$Z=\\frac{1}{\\varepsilon}(I-{G}^T(\\varepsilon I+GG^T)^{-1}G)$\n",
        "\n",
        "$\n",
        "\\left[\\begin{matrix}u_1\\\\b_1\\\\\\end{matrix}\\right]=-{C_1{(Z-ZH}^T(\\frac{I}{C_1}+HZH^T)}^{-1}HZ)H^Te\n",
        "$\n",
        "\n",
        "$\n",
        "\\left[\\begin{matrix}u_2\\\\b_2\\\\\\end{matrix}\\right]=\\left(Z-ZH^T(C_2I+HZH^T\\right)^{-1}{HZ)G}^Te\n",
        "$"
      ],
      "metadata": {
        "id": "zVoclhga77W-"
      }
    },
    {
      "cell_type": "code",
      "source": [
        "if m1>=m2:\n",
        "  \n",
        "  GGT= (G*G.T).astype('float64')\n",
        "\n",
        "  ieps = (epsilon*np.identity(GGT.shape[0])).astype('float64')\n",
        "  INV = np.linalg.inv(ieps + GGT)\n",
        "\n",
        "  GTINVG = G.T*INV*G\n",
        "  i = np.identity(GTINVG.shape[0])\n",
        "  Z = (1/epsilon)*(i- GTINVG)\n",
        "  \n",
        "  print(\"Shape of Z =\",Z.shape)\n",
        "\n",
        "  HZHT = (H*Z*H.T).astype('float64')\n",
        "  i = np.identity(HZHT.shape[0])\n",
        "  ic1 = (1/C1)*i\n",
        "  INV = np.linalg.inv(ic1+ HZHT)\n",
        "  ZHTINVHZHT = (-C1*(Z - Z*H.T*INV*H*Z)*H.T)\n",
        "  e = np.ones((ZHTINVHZHT.shape[1],1))\n",
        "  u1b1 = ZHTINVHZHT*e\n",
        "  print(\"Shape of (u1,b1) =\",u1b1.shape)\n",
        "\n",
        "  # u1 ,b1\n",
        "  INV = np.linalg.inv(C2*i+HZHT)\n",
        "  ZHTHZG = (Z - Z*H.T*INV*H*Z)*G.T\n",
        "  e = np.ones((ZHTHZG.shape[1],1))\n",
        "  u2b2 = ZHTHZG*e\n",
        "  \n",
        "  print(\"Shape of (u2,b2)=\",u2b2.shape)"
      ],
      "metadata": {
        "id": "WeLq-TZ1Zqau",
        "colab": {
          "base_uri": "https://localhost:8080/"
        },
        "outputId": "61b3c3ca-df31-42fb-8027-6e0983e877c0"
      },
      "execution_count": null,
      "outputs": [
        {
          "output_type": "stream",
          "name": "stdout",
          "text": [
            "Shape of Z = (593, 593)\n",
            "Shape of (u1,b1) = (593, 1)\n",
            "Shape of (u2,b2)= (593, 1)\n"
          ]
        }
      ]
    },
    {
      "cell_type": "markdown",
      "source": [
        "<h1>Step 5:</h1>\n",
        "\n",
        "Calculate perpendicular distances  $|K(X,C)u_1+b_1|$ and $|K(X,C)u_2 + b_2|$ for a new datapoint $X \\in R^n$\n",
        "."
      ],
      "metadata": {
        "id": "9ZlbX3I0cHFJ"
      }
    },
    {
      "cell_type": "markdown",
      "source": [
        "<h1>Spep 5.1:</h1>split $u_1,b_1, u_2, b_2$"
      ],
      "metadata": {
        "id": "3aNCzBnehvag"
      }
    },
    {
      "cell_type": "code",
      "source": [
        "# Split u1 and b1\n",
        "last_index = u1b1.shape[0]-1\n",
        "b1 = np.double(u1b1[last_index,0])\n",
        "u1 = np.delete(u1b1, last_index, 0)\n",
        "\n",
        "# Split u2 and b2\n",
        "last_index = u2b2.shape[0]-1\n",
        "b2 = np.double(u2b2[last_index,0])\n",
        "u2 = np.delete(u2b2, last_index, 0)\n",
        "\n",
        "print(\"b1=\",b1,\",b2\",b2,\"\\n\")\n",
        "\n",
        "print(\"u1.T=\",u1.T.shape)\n",
        "print(\"u2.T=\",u2.T.shape)"
      ],
      "metadata": {
        "colab": {
          "base_uri": "https://localhost:8080/"
        },
        "id": "jfAkDwKwcIhQ",
        "outputId": "cef7dfdb-c936-4840-abe7-810f0c194df7"
      },
      "execution_count": null,
      "outputs": [
        {
          "output_type": "stream",
          "name": "stdout",
          "text": [
            "b1= -0.36525134751827093 ,b2 2.8234077355780087 \n",
            "\n",
            "u1.T= (1, 592)\n",
            "u2.T= (1, 592)\n"
          ]
        }
      ]
    },
    {
      "cell_type": "markdown",
      "source": [
        "<h1>Step 5.2: Predicting</h1>\n",
        "calculate norm of  $|K(X,C)u_1+b_1|$ and $|K(X,C)u_2 + b_2|$ for a new datapoint $X \\in R^n$ and assign the datapoint to class 0 or 1 based on which of the distance $|K(X,C)u_1+b_1|$ and $|K(X,C)u_2 + b_2|$ is minimum"
      ],
      "metadata": {
        "id": "44oDhC8aiH0n"
      }
    },
    {
      "cell_type": "code",
      "source": [
        "X_ = matrix(pred_test)\n",
        "predicted = []\n",
        "rows = X_.shape[0]\n",
        "j=0\n",
        "\n",
        "while j < rows:\n",
        "  x = X_[j]\n",
        "  d1 = abs(np.double(K(x,C)*u1)+b1)\n",
        "  #print(\"d1 =\",d1)\n",
        "\n",
        "  d2 = abs(np.double(K(x,C)*u2)+b2)\n",
        "  #print(\"d2=\",d2)\n",
        "  if d1<=d2: predicted.append(0)\n",
        "  else : predicted.append(1)\n",
        "  \n",
        "  j+=1\n",
        "\n",
        "predicted=[]\n",
        "rows = X_.shape[0]\n",
        "j=0\n",
        "#K = get_kernel(name=self.kernel_name)\n",
        "while j < rows:\n",
        "  x = X_[j]\n",
        "  d1 = abs(np.double(K(x,C)*u1)+b1)\n",
        "  d2 = abs(np.double(K(x,C)*u2)+b2)\n",
        "  if d1<=d2:\n",
        "        predicted.append(0)\n",
        "  else :\n",
        "        predicted.append(1)\n",
        "  j+=1\n",
        "\n",
        "print(predicted)"
      ],
      "metadata": {
        "colab": {
          "base_uri": "https://localhost:8080/"
        },
        "id": "ScJYWbWwdNN-",
        "outputId": "605a8cae-5233-4783-81e8-151553e00c1f"
      },
      "execution_count": null,
      "outputs": [
        {
          "output_type": "stream",
          "name": "stdout",
          "text": [
            "[0, 0, 0, 1, 0, 1, 0, 1, 0, 0, 1, 0, 0, 0, 0, 0, 0, 0, 0, 0, 0, 0, 0, 0, 0, 0, 0, 0, 1, 0, 0, 0, 0, 0, 0, 0, 0, 0, 0, 0, 0, 0, 0, 0, 0, 0, 0, 0, 0, 0, 0, 0, 0, 0, 0, 0, 0, 1, 0, 0, 0, 0, 0, 0, 0, 0, 0, 0, 0, 0, 0, 0, 0, 0, 0, 0, 0, 0, 1, 0, 0, 0, 0, 0, 0, 0, 0, 0, 0, 0, 0, 0, 0, 0, 0, 0, 1, 0, 0, 0, 0, 0, 0, 0, 0, 0, 0, 0, 0, 0, 0, 0, 0, 0, 0, 0, 0, 0, 0, 0, 0, 0, 0, 0, 0, 0, 0, 0, 0, 0, 0, 0, 0, 0, 0, 0, 0, 0, 0, 0, 0, 0, 0, 0, 0, 1, 0, 0, 0, 0, 1, 0, 0, 0, 0, 0, 0, 0, 0, 0, 0, 0, 0, 0, 0, 0, 1, 0, 1, 0, 0, 0, 1, 0, 0, 0, 0, 0, 0, 1, 0, 0, 0, 0, 0, 0, 0, 0, 0, 0, 1, 0, 0, 0, 0, 0, 0, 0]\n"
          ]
        }
      ]
    },
    {
      "cell_type": "markdown",
      "source": [
        "# <h1>Full code</h1>\n",
        "\n",
        "Based on the steps explained above, we have packaged the algorithm in a class as follows:"
      ],
      "metadata": {
        "id": "4SgWaNCNrxo0"
      }
    },
    {
      "cell_type": "code",
      "source": [
        "class LSTwinSVM:\n",
        "  # init method or constructor\n",
        "  def __init__(self):\n",
        "    \n",
        "    self.b1 = np.double(0)\n",
        "    self.b2 = np.double(0)\n",
        "    self.u1 = matrix(0)\n",
        "    self.u2 = matrix(0)\n",
        "    self.C  = matrix(0)\n",
        "    self.predicted = []\n",
        "    self.confusion_matrix = matrix(0)\n",
        "    self._C1= 0.0\n",
        "    self._C2 = 0.0\n",
        "    self._epsilon = 0.1\n",
        "    \n",
        "    self.confusion_matrix = matrix(0)\n",
        "    self.K = None\n",
        "    \n",
        "  def fit(self,train_set,target_set,C1=1.0,C2=1.0,gamma = 1.0,epsilon=0.1,kernel='rbf',degree = 2):\n",
        "    self._epsilon = epsilon # Epsilon\n",
        "    self._C1 = C1\n",
        "    self._C2 = C2\n",
        "\n",
        "    self.K = get_kernel(name = kernel,gamma=gamma,degree = degree)\n",
        "    \n",
        "    self.classes = (pd.Series(target_set)).unique()\n",
        "\n",
        "    if len(self.classes)>2:\n",
        "      raise Exception(\"Multiclass not supported\")\n",
        "\n",
        "    A = matrix(train_set[target_set==self.classes[0]])\n",
        "    \n",
        "    B = matrix(train_set[target_set==self.classes[1]])\n",
        "\n",
        "    self.C = np.concatenate((A,B))\n",
        "   \n",
        "    m1 = A.shape[0]\n",
        "    m2 = B.shape[0]\n",
        "    \n",
        "    KAC= self.K(A,self.C)\n",
        "    e = np.ones((KAC.shape[0],1))\n",
        "    G = np.hstack((KAC,e))\n",
        "    KBC = self.K(B,self.C)\n",
        "    e = np.ones((KBC.shape[0],1))\n",
        "    H = np.hstack((KBC,e))\n",
        "    print(\"m1\",m1,\", m2\",m2)\n",
        "    if m1>= m2:\n",
        "      GGT= (G*G.T).astype('float64')\n",
        "      ieps = (epsilon*np.identity(GGT.shape[0])).astype('float64')\n",
        "      INV = np.linalg.inv(ieps + GGT)\n",
        "\n",
        "      GTINVG = G.T*INV*G\n",
        "      i = np.identity(GTINVG.shape[0])\n",
        "      Z = (1/epsilon)*(i- GTINVG)\n",
        "\n",
        "      HZHT = (H*Z*H.T).astype('float64')\n",
        "      i = np.identity(HZHT.shape[0])\n",
        "      ic1 = (1/C1)*i\n",
        "      INV = np.linalg.inv(ic1+ HZHT)\n",
        "      ZHTINVHZHT = (-C1*(Z - Z*H.T*INV*H*Z)*H.T)\n",
        "      e = np.ones((ZHTINVHZHT.shape[1],1))\n",
        "      u1b1 = ZHTINVHZHT*e\n",
        "      #print(\"u1,b1\",u1b1)\n",
        "\n",
        "      # u2 ,b2\n",
        "      INV = np.linalg.inv(C2*i+HZHT)\n",
        "      ZHTHZG = (Z - Z*H.T*INV*H*Z)*G.T\n",
        "      e = np.ones((ZHTHZG.shape[1],1))\n",
        "      u2b2 = ZHTHZG*e\n",
        "      #print(\"u2,b2\",u2b2)\n",
        "    else:\n",
        "      HHT= H*H.T\n",
        "      ieps = epsilon*np.identity(HHT.shape[0])\n",
        "      INV = np.linalg.inv(ieps + HHT)\n",
        "    \n",
        "      HTINVH = H.T*INV*H\n",
        "      i = np.identity(HTINVH.shape[0])\n",
        "      Y = (1/epsilon)*(i- HTINVH)\n",
        "\n",
        "      GYGT = G*Y*G.T\n",
        "      i = np.identity(GYGT.shape[0])\n",
        "      ic1 = C1*i\n",
        "      INV = np.linalg.inv(ic1+ GYGT)\n",
        "      ZGTINVGZGT = -1*(Y - Y*G.T*INV*G*Y)*H.T\n",
        "      e = np.ones((ZGTINVGZGT.shape[1],1))\n",
        "      u1b1 = ZGTINVGZGT*e\n",
        "      #print(\"u1,b1\",u1b1)\n",
        "      # u2 ,b2\n",
        "      INV = np.linalg.inv((1/C2)*i+GYGT)\n",
        "      ZHTHZG = C2*(Y - Y*G.T*INV*G*Y)*G.T\n",
        "      e = np.ones((ZHTHZG.shape[1],1))\n",
        "      u2b2 = ZHTHZG*e\n",
        "    \n",
        "    #print(\"u2,b2\",u2b2)\n",
        "    # Split u1 and b1\n",
        "    last_index = u1b1.shape[0]-1\n",
        "    self.b1 = np.double(u1b1[last_index,0])\n",
        "    self.u1 = np.delete(u1b1, last_index, 0)\n",
        "\n",
        "    # Split u2 and b2\n",
        "    last_index = u2b2.shape[0]-1\n",
        "    self.b2 = np.double(u2b2[last_index,0])\n",
        "    self.u2 = np.delete(u2b2, last_index, 0)\n",
        "\n",
        "  def predict(self,x_test):\n",
        "    self.predicted=[]\n",
        "    X_ = matrix(x_test)\n",
        "    rows = X_.shape[0]\n",
        "    j=0\n",
        "    #K = get_kernel(name=self.kernel_name)\n",
        "    while j < rows:\n",
        "      x = X_[j]\n",
        "      d1 = abs(np.double(self.K(x,self.C)*self.u1)+self.b1)\n",
        "      d2 = abs(np.double(self.K(x,self.C)*self.u2)+self.b2)\n",
        "      \n",
        "      if d1<=d2:\n",
        "        self.predicted.append(0)\n",
        "      else :\n",
        "        self.predicted.append(1)\n",
        "      j+=1\n",
        "    return self.predicted\n",
        "\n",
        "  def make_confusion_matrix(self,y_true):\n",
        "    def make_binary(self,data):\n",
        "        i = 0 \n",
        "        cont = len(data)\n",
        "        y_=[]\n",
        "        while i< cont:\n",
        "          if data[i]== self.classes[0]:\n",
        "              y_.append(0)\n",
        "          else: y_.append(1)\n",
        "          i+=1\n",
        "        return y_\n",
        "\n",
        "    y__ = make_binary(self,y_true)\n",
        "    #print(\"binary     :\",y__)\n",
        "    cm = metrics.confusion_matrix(y__, self.predicted)\n",
        "    #print(\"Confiusion Matrix:\",cm)\n",
        "    #Accuracy formula = (TN+TP)/All\n",
        "    self.accuracy = (cm[0,0]+ cm[1,1])/(cm[0,0]+ cm[0,1]+ cm[1,0]+ cm[1,1])\n",
        "    #Error rate\n",
        "    self.error = 1- self.accuracy \n",
        "    #Recall(Sensitivity)\n",
        "    self.sensitivity = cm[0,0]/(cm[0,0]+cm[0,1])\n",
        "    #Specificity\n",
        "    self.specificity = cm[0,0]/(cm[0,0]+cm[1,0])\n",
        "    self.confusion_matrix = cm\n",
        "    \n",
        "    return cm\n",
        "  def print_info(self):\n",
        "\n",
        "      print(\"classes:\",self.classes)\n",
        "      #Accuracy = TP + TN / (TP + TN + FP + FN)\n",
        "      print(\"Score:\",self.accuracy)\n",
        "      print(\"Error:\",self.error)\n",
        "      #Recall = TP / (TP +FN)\n",
        "      print(\"Recall(Sensitivity):\",self.sensitivity)\n",
        "      print(\"Specificity:\",self.specificity)\n",
        "      # F1 = 2*(Recall * Precision) / (Recall + Precision)\n",
        "      # Precision = TP / (TP + FP)\n",
        "\n",
        "      print(\"Confusion matrix\")\n",
        "      cm_display = metrics.ConfusionMatrixDisplay(confusion_matrix = self.confusion_matrix, display_labels = [False, True])\n",
        "      cm_display.plot()\n",
        "      plt.show()"
      ],
      "metadata": {
        "id": "rbKM-9eCM6eu"
      },
      "execution_count": null,
      "outputs": []
    },
    {
      "cell_type": "markdown",
      "source": [
        "# **<h1>Our 'LSTwinSVM' Classifier usage<h1>**\n",
        "In this section, we compare the results of three common kernels\n",
        "<ul><li><b>Linear kernel</b></li></ul>"
      ],
      "metadata": {
        "id": "0ZRvCMHs7XkY"
      }
    },
    {
      "cell_type": "code",
      "source": [
        "clf = LSTwinSVM()\n",
        "\n",
        "clf.fit(pred_train,tar_train,kernel='linear')\n",
        "\n",
        "clf.predict(pred_test)\n",
        "clf.make_confusion_matrix(tar_test)\n",
        "\n",
        "clf.print_info()"
      ],
      "metadata": {
        "id": "VsCIu5M1f58z",
        "colab": {
          "base_uri": "https://localhost:8080/",
          "height": 570
        },
        "outputId": "6fe1324e-beb5-4a2d-81aa-a1bc175708c8"
      },
      "execution_count": null,
      "outputs": [
        {
          "output_type": "stream",
          "name": "stdout",
          "text": [
            "m1 386 m2 206\n",
            "classes: ['Passed' 'Failure']\n",
            "Score: 0.7575757575757576\n",
            "Error: 0.24242424242424243\n",
            "Recall(Sensitivity): 0.9583333333333334\n",
            "Specificity: 0.7666666666666667\n",
            "Confusion matrix\n"
          ]
        },
        {
          "output_type": "display_data",
          "data": {
            "text/plain": [
              "<Figure size 640x480 with 2 Axes>"
            ],
            "image/png": "[encoded data removed]"
          },
          "metadata": {}
        }
      ]
    },
    {
      "cell_type": "markdown",
      "source": [
        "<ul><li><b>RBF kernel</b></li></ul>"
      ],
      "metadata": {
        "id": "wO43pnrEjPl2"
      }
    },
    {
      "cell_type": "code",
      "source": [
        "clf.fit(pred_train,tar_train,kernel='rbf')\n",
        "\n",
        "clf.predict(pred_test)\n",
        "clf.make_confusion_matrix(tar_test)\n",
        "\n",
        "clf.print_info()"
      ],
      "metadata": {
        "colab": {
          "base_uri": "https://localhost:8080/",
          "height": 570
        },
        "id": "333k9J8IiGuX",
        "outputId": "539be7ad-8bc5-4f8d-aa84-90c240e4947a"
      },
      "execution_count": null,
      "outputs": [
        {
          "output_type": "stream",
          "name": "stdout",
          "text": [
            "m1 386 m2 206\n",
            "classes: ['Passed' 'Failure']\n",
            "Score: 0.898989898989899\n",
            "Error: 0.101010101010101\n",
            "Recall(Sensitivity): 1.0\n",
            "Specificity: 0.8780487804878049\n",
            "Confusion matrix\n"
          ]
        },
        {
          "output_type": "display_data",
          "data": {
            "text/plain": [
              "<Figure size 640x480 with 2 Axes>"
            ],
            "image/png": "[encoded data removed]"
          },
          "metadata": {}
        }
      ]
    },
    {
      "cell_type": "markdown",
      "source": [
        "<ul><li><b>Polynomial kernel</b></li></ul>"
      ],
      "metadata": {
        "id": "ZJspB02ujTC1"
      }
    },
    {
      "cell_type": "code",
      "source": [
        "clf.fit(pred_train,tar_train,kernel='poly',epsilon=0.5)\n",
        "\n",
        "clf.predict(pred_test)\n",
        "clf.make_confusion_matrix(tar_test)\n",
        "\n",
        "clf.print_info()"
      ],
      "metadata": {
        "colab": {
          "base_uri": "https://localhost:8080/",
          "height": 574
        },
        "id": "zC8rwNhbiOql",
        "outputId": "b50f5e82-b797-4f48-8acf-4b41488b6e2c"
      },
      "execution_count": null,
      "outputs": [
        {
          "output_type": "stream",
          "name": "stdout",
          "text": [
            "m1 386 m2 206\n",
            "classes: ['Passed' 'Failure']\n",
            "Score: 0.7121212121212122\n",
            "Error: 0.28787878787878785\n",
            "Recall(Sensitivity): 0.9791666666666666\n",
            "Specificity: 0.7230769230769231\n",
            "Confusion matrix\n"
          ]
        },
        {
          "output_type": "display_data",
          "data": {
            "text/plain": [
              "<Figure size 640x480 with 2 Axes>"
            ],
            "image/png": "[encoded data removed]"
          },
          "metadata": {}
        }
      ]
    },
    {
      "cell_type": "code",
      "source": [
        "clf.fit(pred_train,tar_train,kernel='rbf',gamma=0.001)\n",
        "\n",
        "clf.predict(pred_test)\n",
        "clf.make_confusion_matrix(tar_test)\n",
        "\n",
        "clf.print_info()"
      ],
      "metadata": {
        "colab": {
          "base_uri": "https://localhost:8080/",
          "height": 570
        },
        "id": "MzR7DMvevMbu",
        "outputId": "bf4c5103-a907-41fd-a633-b98c255509af"
      },
      "execution_count": null,
      "outputs": [
        {
          "output_type": "stream",
          "name": "stdout",
          "text": [
            "m1 386 m2 206\n",
            "classes: ['Passed' 'Failure']\n",
            "Score: 0.7676767676767676\n",
            "Error: 0.23232323232323238\n",
            "Recall(Sensitivity): 0.9027777777777778\n",
            "Specificity: 0.8024691358024691\n",
            "Confusion matrix\n"
          ]
        },
        {
          "output_type": "display_data",
          "data": {
            "text/plain": [
              "<Figure size 640x480 with 2 Axes>"
            ],
            "image/png": "[encoded data removed]"
          },
          "metadata": {}
        }
      ]
    },
    {
      "cell_type": "markdown",
      "source": [
        "<b>Final remarks:</b> In this discussion, we tried to meet the minimum implementation requirements of this algorithm, for those interested, it is possible to improve its performance by testing different parameters on various datasets, the author hopes to receive any feedback via email or Receive on other platforms including GitHub and social networks.\n",
        "\n",
        "---\n",
        "<b>Abdullah Mohammadi<br/>Master student in Data Science,Ferdowsi university of Mashhad</b><br/>\n",
        "<a href='mailto:abdhmohammady@gmail.com'>abdhmohammady@gmail.com</a><br/>\n",
        "<a href='https://github.com/AbdhMohammadi'>https://github.com/abdhmohammadi</a><br/>\n",
        "Other social networks: @abdhmohammadi"
      ],
      "metadata": {
        "id": "fL3I0HKMIXs_"
      }
    }
  ]
}