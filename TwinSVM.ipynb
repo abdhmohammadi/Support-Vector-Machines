{
 "cells": [
  {
   "cell_type": "markdown",
   "metadata": {},
   "source": [
    "<div align='center'><font size=10>Implementing Twin Support Vector machine</font></div>"
   ]
  },
  {
   "cell_type": "markdown",
   "metadata": {},
   "source": [
    "This notebook implemeted using original twin svm paper titled by:\n",
    "\n",
    "Twin Support Vector Machines for Pattern Classification<br>\n",
    "Jayadeva, R. Khemchandani and Suresh Chandra\n",
    "\n",
    "IEEE TRANSACTIONS ON PATTERN ANALYSIS AND MACHINE INTELLIGENCE, VOL. 29, NO. 5, MAY 2007"
   ]
  },
  {
   "cell_type": "markdown",
   "metadata": {},
   "source": [
    "Implemented by:\n",
    "\n",
    "Abdullah Mohammadi\n",
    "\n",
    "M.SC Student in Data Science, Ferdowsi University of mashhad(FUM),Iran\n",
    "\n",
    "abdhmohammady@gmail.com\n",
    "\n",
    "https://github.com/abdhmohammadi\n",
    "\n",
    "Please to use this code star me in <a href= 'https://github.com/abdhmohammadi'>github</a>"
   ]
  },
  {
   "cell_type": "code",
   "execution_count": 1,
   "metadata": {},
   "outputs": [],
   "source": [
    "import numpy\n",
    "from sklearn.model_selection import train_test_split\n",
    "from sklearn.datasets import make_moons\n",
    "from matplotlib import pyplot as plt\n",
    "import os \n",
    "from sklearn.metrics import accuracy_score\n",
    "from sklearn.metrics.pairwise import rbf_kernel , linear_kernel\n",
    "\n",
    "from qpsolvers import solve_qp"
   ]
  },
  {
   "cell_type": "markdown",
   "metadata": {},
   "source": [
    "We generate random 2-D data samples data from Normal distribution"
   ]
  },
  {
   "cell_type": "code",
   "execution_count": 2,
   "metadata": {},
   "outputs": [],
   "source": [
    "n_samples = 100\n",
    "negative_samples = numpy.random.multivariate_normal(mean=[0, 5], cov=[[2, 1.5],[1.5, 2]], size=n_samples)\n",
    "\n",
    "positive_samples = numpy.random.multivariate_normal(mean=[6, 0],cov=[[2, 1.5],[1.5, 2]], size=n_samples)\n",
    "\n",
    "samples = numpy.vstack((negative_samples,positive_samples))\n",
    "\n",
    "neg_labels = -numpy.ones((n_samples,1))\n",
    "pos_labels = numpy.ones((n_samples,1))\n",
    "labels = numpy.vstack((neg_labels,pos_labels))\n",
    "\n",
    "X = samples\n",
    "y = labels\n",
    "\n",
    "X_train,X_test,y_train, y_test = train_test_split(X,y,test_size=30)\n",
    "\n",
    "y_train = numpy.asarray(y_train).T[0]"
   ]
  },
  {
   "cell_type": "markdown",
   "metadata": {},
   "source": [
    "We assign matrix of class 1 to A and class 2 to B,<br>\n",
    "and separate unique labels from train labels  "
   ]
  },
  {
   "cell_type": "code",
   "execution_count": 3,
   "metadata": {},
   "outputs": [],
   "source": [
    "classes = numpy.unique(y_train)\n",
    "\n",
    "A = numpy.asarray(X_train[y_train == classes[0]],dtype=numpy.float64) \n",
    "       \n",
    "B = numpy.asarray(X_train[y_train == classes[1]],dtype=numpy.float64) \n",
    "\n",
    "m1 = len(A)\n",
    "m2 = len(B)\n"
   ]
  },
  {
   "cell_type": "markdown",
   "metadata": {},
   "source": [
    "From relation (25), we set e1 , e2 ,H and G \n",
    "and kernelize data using relation (34)"
   ]
  },
  {
   "cell_type": "code",
   "execution_count": 4,
   "metadata": {},
   "outputs": [],
   "source": [
    "kernel_name = ''\n",
    "K = None\n",
    "epsilon = 0.001\n",
    "e1 = numpy.ones(m1).reshape(-1,1)\n",
    "e2 = numpy.ones(m2).reshape(-1,1)"
   ]
  },
  {
   "cell_type": "code",
   "execution_count": 5,
   "metadata": {},
   "outputs": [],
   "source": [
    "C = numpy.vstack((A,B))\n",
    "\n",
    "if kernel_name == 'rbf':\n",
    "        K = rbf_kernel\n",
    "        H = numpy.hstack((K(A,C,gamma=10),e1))\n",
    "        G = numpy.hstack((K(B,C,gamma=10),e2))\n",
    "\n",
    "elif kernel_name == 'linear':\n",
    "        K = linear_kernel\n",
    "        H = numpy.hstack((K(A,C),e1))\n",
    "        G = numpy.hstack((K(B,C),e2))     \n",
    "        \n",
    "else:  # None linear \n",
    "        H = numpy.hstack((A,e1))\n",
    "        G = numpy.hstack((B,e2))"
   ]
  },
  {
   "cell_type": "markdown",
   "metadata": {},
   "source": [
    "coding matrix inverse for relation (26)  and (27)\n",
    "\n",
    "$(H^TH+ \\epsilon I)^{-1}$"
   ]
  },
  {
   "cell_type": "code",
   "execution_count": 6,
   "metadata": {},
   "outputs": [],
   "source": [
    "H_ = numpy.linalg.inv(H.T@H + epsilon* numpy.identity(H.shape[1]))"
   ]
  },
  {
   "cell_type": "markdown",
   "metadata": {},
   "source": [
    "Solving the quadratic problem relation (28),(29)<br>\n",
    "to solve it we use qpsolvers package,<br>\n",
    "this package solve minimization problem like below:\n",
    "\n",
    "$minimize\\ \\frac{1}{2} x^T P x + q^T x$ <br>\n",
    " $subject\\ to$<br>\n",
    " $G x \\leq h$                \n",
    " $A x = b$                   \n",
    " $lb \\leq x \\leq ub$\n",
    "\n"
   ]
  },
  {
   "cell_type": "markdown",
   "metadata": {},
   "source": [
    "First Hyper plane"
   ]
  },
  {
   "cell_type": "code",
   "execution_count": 7,
   "metadata": {},
   "outputs": [],
   "source": [
    "c1 = 10  # hyper-parameter \n",
    "\n",
    "P = G @ H_ @ G.T\n",
    "alpha = solve_qp(P = P ,q = -e2.T, lb = numpy.zeros(m2), ub = c1 * numpy.ones(m2),solver='cvxopt')\n",
    "\n",
    "alpha = alpha.reshape(m2,1)\n",
    "\n",
    "u = -H_ @ G.T @ alpha\n",
    "\n",
    "b1 = numpy.float64(u[len(u)-1])\n",
    "\n",
    "w1 =u[:len(u)-1].T[0]\n"
   ]
  },
  {
   "cell_type": "markdown",
   "metadata": {},
   "source": [
    "Second Heper plan"
   ]
  },
  {
   "cell_type": "code",
   "execution_count": 8,
   "metadata": {},
   "outputs": [],
   "source": [
    "c2 = 0.5\n",
    "# Secund hyperplane\n",
    "G_ = numpy.linalg.inv(G.T @ G + epsilon * numpy.eye(G.shape[1]))\n",
    "\n",
    "P = H @ G_ @ H.T\n",
    "\n",
    "alpha = solve_qp(P = P ,q = -e1.T, lb = numpy.zeros(m1), ub = c2 * numpy.ones(m1),solver='cvxopt')\n",
    "    \n",
    "u = G_ @ H.T @ alpha.reshape(m1,1)\n",
    "\n",
    "b2 = numpy.float64(u[len(u)-1])\n",
    "\n",
    "w2 =u[:len(u)-1].T[0]"
   ]
  },
  {
   "cell_type": "code",
   "execution_count": 9,
   "metadata": {},
   "outputs": [
    {
     "name": "stdout",
     "output_type": "stream",
     "text": [
      "b1: -0.618254305375225\n",
      "b2: 0.6941412659115446\n",
      "w1: (2,)\n",
      "w2: (2,)\n"
     ]
    }
   ],
   "source": [
    "print('b1:',b1)\n",
    "print('b2:',b2)\n",
    "\n",
    "print('w1:',w1.shape)\n",
    "print('w2:',w2.shape)\n"
   ]
  },
  {
   "cell_type": "markdown",
   "metadata": {},
   "source": [
    "Now, we predict the test data"
   ]
  },
  {
   "cell_type": "code",
   "execution_count": 10,
   "metadata": {},
   "outputs": [],
   "source": [
    "predict = []\n",
    "\n",
    "for i in range(len(X_test)):\n",
    "        \n",
    "    x = X_test[i].T if K == None else K(X_test[i].reshape(-1,1).T,C,gamma=10)\n",
    "\n",
    "    value1 = abs(x @ w1 + b1) \n",
    "    value2 = abs(x @ w2 + b2)\n",
    "\n",
    "    if value1 < value2:\n",
    "        predict.append(classes[0])\n",
    "    else:\n",
    "        predict.append(classes[1])"
   ]
  },
  {
   "cell_type": "markdown",
   "metadata": {},
   "source": [
    "printing accuracy"
   ]
  },
  {
   "cell_type": "code",
   "execution_count": 11,
   "metadata": {},
   "outputs": [
    {
     "name": "stdout",
     "output_type": "stream",
     "text": [
      "accuracy: 100.00\n"
     ]
    }
   ],
   "source": [
    "\n",
    "accuracy = accuracy_score(y_test,predict)\n",
    "\n",
    "print('accuracy: %0.2f' %(accuracy*100))"
   ]
  },
  {
   "cell_type": "markdown",
   "metadata": {},
   "source": [
    "If we do not use the kernel and data is 2-D, we can plot the hyper plans"
   ]
  },
  {
   "cell_type": "code",
   "execution_count": 73,
   "metadata": {},
   "outputs": [
    {
     "data": {
      "image/png": "[encoded data removed]",
      "text/plain": [
       "<Figure size 640x480 with 1 Axes>"
      ]
     },
     "metadata": {},
     "output_type": "display_data"
    }
   ],
   "source": [
    "\n",
    "plt.scatter(negative_samples[:,0], negative_samples[:,1],c='b', marker=\"s\")\n",
    "plt.scatter(positive_samples[:,0], positive_samples[:,1],c='r', marker=\"o\")\n",
    "plt.xlim(min(X[:,0]))\n",
    "plt.ylabel('Y')\n",
    "plt.xlabel('X')\n",
    "plt.title('Twin SVM hyper-plans')\n",
    "x = range(int(min(X[:,0])),int(max(X[:,0])))\n",
    "\n",
    "y1 = -(w1[0]/w1[1])*x - b1\n",
    "y2 = -(w2[0]/w2[1])*x - b2\n",
    "\n",
    "plt.plot(x,y1)\n",
    "plt.plot(x,y2)\n",
    "\n",
    "plt.show()\n"
   ]
  }
 ],
 "metadata": {
  "kernelspec": {
   "display_name": "Python 3",
   "language": "python",
   "name": "python3"
  },
  "language_info": {
   "codemirror_mode": {
    "name": "ipython",
    "version": 3
   },
   "file_extension": ".py",
   "mimetype": "text/x-python",
   "name": "python",
   "nbconvert_exporter": "python",
   "pygments_lexer": "ipython3",
   "version": "3.11.6"
  }
 },
 "nbformat": 4,
 "nbformat_minor": 2
}
